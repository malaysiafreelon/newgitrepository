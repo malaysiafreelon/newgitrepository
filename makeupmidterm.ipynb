{
  "nbformat": 4,
  "nbformat_minor": 0,
  "metadata": {
    "colab": {
      "name": "makeupmidterm",
      "provenance": [],
      "authorship_tag": "ABX9TyMOYCV/HOX5kfECLdlGcTL1",
      "include_colab_link": true
    },
    "kernelspec": {
      "name": "python3",
      "display_name": "Python 3"
    },
    "language_info": {
      "name": "python"
    }
  },
  "cells": [
    {
      "cell_type": "markdown",
      "metadata": {
        "id": "view-in-github",
        "colab_type": "text"
      },
      "source": [
        "<a href=\"https://colab.research.google.com/github/malaysiafreelon/newgitrepository/blob/main/makeupmidterm.ipynb\" target=\"_parent\"><img src=\"https://colab.research.google.com/assets/colab-badge.svg\" alt=\"Open In Colab\"/></a>"
      ]
    },
    {
      "cell_type": "markdown",
      "source": [
        "main"
      ],
      "metadata": {
        "id": "J3obvZewHyLp"
      }
    },
    {
      "cell_type": "code",
      "execution_count": null,
      "metadata": {
        "id": "lo3YaJKoHqma"
      },
      "outputs": [],
      "source": [
        "class Employee:\n",
        "  def __init__(self, name, address, joined):\n",
        "    self.name = name\n",
        "    self.address = address\n",
        "    self.joined = joined\n",
        "    \n",
        "  #Question 1\n",
        "  def getInfo(self, salary, hours):\n",
        "    self.salary = float(salary)\n",
        "    self.hours = float(hours)\n",
        "    \n",
        "  def addSal(self):\n",
        "    if self.salary < 500:\n",
        "      self.salary += 10\n",
        "      \n",
        "  def addWork(self):\n",
        "    if self.hours > 6:\n",
        "      self.salary += 5\n",
        "\n",
        "      \n",
        "  #Question 2\n",
        "  def __str__(self):\n",
        "    return self.name,\"\\t\", self.joined,\"\\t\",self.salary,\"\\t\",self.address\n",
        "    \n",
        "  def print(self):\n",
        "    print(self.name,\"\\t\", self.joined,\"\\t\",self.salary,\"\\t\",self.address )\n",
        "    \n",
        "  def getPersonal(self, name, address, joined):\n",
        "    self.name = name\n",
        "    self.address = address\n",
        "    self.joined = joined\n"
      ]
    },
    {
      "cell_type": "markdown",
      "source": [
        "np midterm"
      ],
      "metadata": {
        "id": "V8eyHxiVH5b8"
      }
    },
    {
      "cell_type": "code",
      "source": [
        "import numpy as np\n",
        "\n",
        "class BigMatrixMath:\n",
        "  def __init__(self):\n",
        "    self.list = []\n",
        "  def addMatrix(self, matrix = np.random.randint(-70, 159, (40,40))):\n",
        "    self.list.append(matrix)\n",
        "  def printDimension(self):\n",
        "    for i in self.list:\n",
        "      print(i.shape,\"\\t\", i.ndim)\n",
        "  def dotProductElgible(self, a, b):\n",
        "    return a.ndim == 2 and a.ndim == b.ndim and a.shape[1] == b.shape[0]              \n",
        "  \n",
        "a = np.array([0])\n",
        "x = BigMatrixMath()\n",
        "x.addMatrix(a)\n",
        "x.addMatrix()\n",
        "\n",
        "x = np.linspace(0.0,100.0, 25, dtype=np.float64)\n",
        "x = np.arange(0.0,100.1, 4, dtype=np.float64)\n",
        "\n",
        "\n",
        "a = np.array([[56, 12], [39, 74]])\n",
        "b = np.array([[65, 76]])\n",
        "\n",
        "a.append(b)"
      ],
      "metadata": {
        "id": "w3r0G19QH6YD"
      },
      "execution_count": null,
      "outputs": []
    },
    {
      "cell_type": "markdown",
      "source": [
        "pd midterm"
      ],
      "metadata": {
        "id": "WKJA6XAOH7Ik"
      }
    },
    {
      "cell_type": "code",
      "source": [
        "import pandas as pd\n",
        "\n",
        "iris = pd.read_csv(\"iris.csv\")\n",
        "adults = pd.read_csv(\"adult.csv\")\n",
        "cars =pd.read_csv(\"car.csv\")\n",
        "\n",
        "\n",
        "ad_group = adults.groupby([\"class\"])\n",
        "print(ad_group.mean())\n",
        "print(ad_group.median())\n",
        "print(ad_group.std())\n",
        "print(ad_group.corr())"
      ],
      "metadata": {
        "id": "JRfQoEtGH959"
      },
      "execution_count": null,
      "outputs": []
    },
    {
      "cell_type": "markdown",
      "source": [
        "shape midterm"
      ],
      "metadata": {
        "id": "w2biY7_SH-8Q"
      }
    },
    {
      "cell_type": "code",
      "source": [
        "import pandas as pd\n",
        "\n",
        "iris = pd.read_csv(\"iris.csv\")\n",
        "adults = pd.read_csv(\"adult.csv\")\n",
        "cars =pd.read_csv(\"car.csv\")\n",
        "\n",
        "\n",
        "ad_group = adults.groupby([\"class\"])\n",
        "print(ad_group.mean())\n",
        "print(ad_group.median())\n",
        "print(ad_group.std())\n",
        "print(ad_group.corr())"
      ],
      "metadata": {
        "id": "LmmxjvX-IAxq"
      },
      "execution_count": null,
      "outputs": []
    },
    {
      "cell_type": "markdown",
      "source": [
        "shape midterm"
      ],
      "metadata": {
        "id": "CHNtBDKuIqJd"
      }
    },
    {
      "cell_type": "code",
      "source": [
        "import math\n",
        "#Question 3\n",
        "class Shape:\n",
        "  def __init__(self):\n",
        "    pass\n",
        "  def area(self):\n",
        "    pass\n",
        "\n",
        "#Question 4\n",
        "class Triangle(Shape):\n",
        "  def __init__(self, a, b, c, C):\n",
        "    self.a = a\n",
        "    self.b = b\n",
        "    self.c = c    \n",
        "    self.C = C\n",
        "  def area(self, a,b, C):\n",
        "    return a * b * math.sin(C) /2\n",
        "  def Area(self):\n",
        "    return self.a * self.b * math.sin(self.C) /2\n",
        "  def perimeter(self):\n",
        "    return self.a + self.b + self.c\n",
        "\n",
        "\n",
        "class Rectangle(Shape):\n",
        "  def __init__(self, height, length):\n",
        "    self.height = height\n",
        "    self.length = length\n",
        "  def area(self, height,length):\n",
        "    return \n",
        "  def Area(self):\n",
        "    return self.height * self.length\n",
        "  def perimeter(self):\n",
        "    return 2 * self.height + self.length * 2"
      ],
      "metadata": {
        "id": "SA91twZwIrJB"
      },
      "execution_count": null,
      "outputs": []
    }
  ]
}